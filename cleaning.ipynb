{
 "cells": [
  {
   "cell_type": "markdown",
   "id": "eb17c53d",
   "metadata": {},
   "source": [
    "### ST1502 CA1\n",
    "\n",
    "Name: Jovan Heng Ghim Hong\n",
    "\n",
    "Class: DAAA/2B/22\n",
    "\n",
    "Admin No: 2401418\n",
    "\n",
    "Main Problem Statement/Goal:\n",
    "\n",
    "Recommend ideas that can help singapore with housing issues"
   ]
  },
  {
   "cell_type": "code",
   "execution_count": 44,
   "id": "cea9f99a",
   "metadata": {},
   "outputs": [],
   "source": [
    "# Basic Imports\n",
    "import pandas as pd\n",
    "import numpy as np\n",
    "import matplotlib.pyplot as plt\n",
    "import re\n",
    "import warnings\n",
    "\n",
    "warnings.filterwarnings('ignore')"
   ]
  },
  {
   "cell_type": "markdown",
   "id": "943d7da6",
   "metadata": {},
   "source": [
    "##### Basic Data Exploration"
   ]
  },
  {
   "cell_type": "code",
   "execution_count": 71,
   "id": "c48d70df",
   "metadata": {},
   "outputs": [
    {
     "data": {
      "text/html": [
       "<div>\n",
       "<style scoped>\n",
       "    .dataframe tbody tr th:only-of-type {\n",
       "        vertical-align: middle;\n",
       "    }\n",
       "\n",
       "    .dataframe tbody tr th {\n",
       "        vertical-align: top;\n",
       "    }\n",
       "\n",
       "    .dataframe thead th {\n",
       "        text-align: right;\n",
       "    }\n",
       "</style>\n",
       "<table border=\"1\" class=\"dataframe\">\n",
       "  <thead>\n",
       "    <tr style=\"text-align: right;\">\n",
       "      <th></th>\n",
       "      <th>month</th>\n",
       "      <th>town</th>\n",
       "      <th>flat_type</th>\n",
       "      <th>block</th>\n",
       "      <th>street_name</th>\n",
       "      <th>storey_range</th>\n",
       "      <th>floor_area_sqm</th>\n",
       "      <th>flat_model</th>\n",
       "      <th>lease_commence_date</th>\n",
       "      <th>remaining_lease</th>\n",
       "      <th>resale_price</th>\n",
       "    </tr>\n",
       "  </thead>\n",
       "  <tbody>\n",
       "    <tr>\n",
       "      <th>0</th>\n",
       "      <td>2017-01</td>\n",
       "      <td>ANG MO KIO</td>\n",
       "      <td>2 ROOM</td>\n",
       "      <td>@406</td>\n",
       "      <td>AMK AVE 10</td>\n",
       "      <td>10 TO 12</td>\n",
       "      <td>44.0</td>\n",
       "      <td>Improved</td>\n",
       "      <td>1979</td>\n",
       "      <td>61 years 04 months</td>\n",
       "      <td>232000.0</td>\n",
       "    </tr>\n",
       "    <tr>\n",
       "      <th>1</th>\n",
       "      <td>2017-01</td>\n",
       "      <td>ANG MO KIO</td>\n",
       "      <td>3 ROOM</td>\n",
       "      <td>108</td>\n",
       "      <td>ANG MO KIO AVE 4</td>\n",
       "      <td>01 TO 03</td>\n",
       "      <td>67.0</td>\n",
       "      <td>New-Generation</td>\n",
       "      <td>1978</td>\n",
       "      <td>60 years 07 months</td>\n",
       "      <td>250000.0</td>\n",
       "    </tr>\n",
       "    <tr>\n",
       "      <th>2</th>\n",
       "      <td>2017-01</td>\n",
       "      <td>ANG MO KIO</td>\n",
       "      <td>3-ROOM</td>\n",
       "      <td>602</td>\n",
       "      <td>ANG MO KIO AVE 5</td>\n",
       "      <td>01 TO 03</td>\n",
       "      <td>67.0</td>\n",
       "      <td>New-Generation</td>\n",
       "      <td>1980</td>\n",
       "      <td>62 years 05 months</td>\n",
       "      <td>262000.0</td>\n",
       "    </tr>\n",
       "    <tr>\n",
       "      <th>3</th>\n",
       "      <td>2017-01</td>\n",
       "      <td>ANG MO KIO</td>\n",
       "      <td>3 ROOM</td>\n",
       "      <td>465</td>\n",
       "      <td>AMK AVE 10</td>\n",
       "      <td>04 TO 06</td>\n",
       "      <td>68.0</td>\n",
       "      <td>New Generation</td>\n",
       "      <td>1980</td>\n",
       "      <td>62 years 01 month</td>\n",
       "      <td>265000.0</td>\n",
       "    </tr>\n",
       "    <tr>\n",
       "      <th>4</th>\n",
       "      <td>2017-01</td>\n",
       "      <td>AMK</td>\n",
       "      <td>3-ROOM</td>\n",
       "      <td>601</td>\n",
       "      <td>ANG MO KIO AVE 5</td>\n",
       "      <td>01 TO 03</td>\n",
       "      <td>67.0</td>\n",
       "      <td>New Generation</td>\n",
       "      <td>1980</td>\n",
       "      <td>62 y 05 months</td>\n",
       "      <td>265000.0</td>\n",
       "    </tr>\n",
       "    <tr>\n",
       "      <th>...</th>\n",
       "      <td>...</td>\n",
       "      <td>...</td>\n",
       "      <td>...</td>\n",
       "      <td>...</td>\n",
       "      <td>...</td>\n",
       "      <td>...</td>\n",
       "      <td>...</td>\n",
       "      <td>...</td>\n",
       "      <td>...</td>\n",
       "      <td>...</td>\n",
       "      <td>...</td>\n",
       "    </tr>\n",
       "    <tr>\n",
       "      <th>202759</th>\n",
       "      <td>2025-02</td>\n",
       "      <td>YISHUN</td>\n",
       "      <td>EXECUTIVE</td>\n",
       "      <td>723</td>\n",
       "      <td>YISHUN ST 71</td>\n",
       "      <td>07 TO 09</td>\n",
       "      <td>146.0</td>\n",
       "      <td>Maisonette</td>\n",
       "      <td>1986</td>\n",
       "      <td>60 years 05 months</td>\n",
       "      <td>818888.0</td>\n",
       "    </tr>\n",
       "    <tr>\n",
       "      <th>202760</th>\n",
       "      <td>2025-01</td>\n",
       "      <td>YISHUN</td>\n",
       "      <td>EXECUTIVE</td>\n",
       "      <td>836</td>\n",
       "      <td>YISHUN ST 81</td>\n",
       "      <td>01 TO 03</td>\n",
       "      <td>146.0</td>\n",
       "      <td>Maisonette</td>\n",
       "      <td>1988</td>\n",
       "      <td>62 years 02 months</td>\n",
       "      <td>960000.0</td>\n",
       "    </tr>\n",
       "    <tr>\n",
       "      <th>202761</th>\n",
       "      <td>2025-02</td>\n",
       "      <td>YISHUN</td>\n",
       "      <td>EXECUTIVE</td>\n",
       "      <td>824</td>\n",
       "      <td>YISHUN ST 81</td>\n",
       "      <td>01 TO 03</td>\n",
       "      <td>145.0</td>\n",
       "      <td>Apartment</td>\n",
       "      <td>1987</td>\n",
       "      <td>61 years 10 months</td>\n",
       "      <td>868888.0</td>\n",
       "    </tr>\n",
       "    <tr>\n",
       "      <th>202762</th>\n",
       "      <td>2025-02</td>\n",
       "      <td>YISHUN</td>\n",
       "      <td>EXECUTIVE</td>\n",
       "      <td>826</td>\n",
       "      <td>YISHUN ST 81</td>\n",
       "      <td>10 TO 12</td>\n",
       "      <td>146.0</td>\n",
       "      <td>Maisonette</td>\n",
       "      <td>1988</td>\n",
       "      <td>62 years</td>\n",
       "      <td>1100888.0</td>\n",
       "    </tr>\n",
       "    <tr>\n",
       "      <th>202763</th>\n",
       "      <td>2025-02</td>\n",
       "      <td>YISHUN</td>\n",
       "      <td>EXECUTIVE</td>\n",
       "      <td>826</td>\n",
       "      <td>YISHUN ST 81</td>\n",
       "      <td>10 TO 12</td>\n",
       "      <td>146.0</td>\n",
       "      <td>Maisonette</td>\n",
       "      <td>1988</td>\n",
       "      <td>62 years</td>\n",
       "      <td>1100888.0</td>\n",
       "    </tr>\n",
       "  </tbody>\n",
       "</table>\n",
       "<p>202764 rows × 11 columns</p>\n",
       "</div>"
      ],
      "text/plain": [
       "          month        town  flat_type block       street_name storey_range  \\\n",
       "0       2017-01  ANG MO KIO     2 ROOM  @406        AMK AVE 10     10 TO 12   \n",
       "1       2017-01  ANG MO KIO     3 ROOM   108  ANG MO KIO AVE 4     01 TO 03   \n",
       "2       2017-01  ANG MO KIO     3-ROOM   602  ANG MO KIO AVE 5     01 TO 03   \n",
       "3       2017-01  ANG MO KIO     3 ROOM   465        AMK AVE 10     04 TO 06   \n",
       "4       2017-01         AMK     3-ROOM   601  ANG MO KIO AVE 5     01 TO 03   \n",
       "...         ...         ...        ...   ...               ...          ...   \n",
       "202759  2025-02      YISHUN  EXECUTIVE   723      YISHUN ST 71     07 TO 09   \n",
       "202760  2025-01      YISHUN  EXECUTIVE   836      YISHUN ST 81     01 TO 03   \n",
       "202761  2025-02      YISHUN  EXECUTIVE   824      YISHUN ST 81     01 TO 03   \n",
       "202762  2025-02      YISHUN  EXECUTIVE   826      YISHUN ST 81     10 TO 12   \n",
       "202763  2025-02      YISHUN  EXECUTIVE   826      YISHUN ST 81     10 TO 12   \n",
       "\n",
       "        floor_area_sqm      flat_model  lease_commence_date  \\\n",
       "0                 44.0        Improved                 1979   \n",
       "1                 67.0  New-Generation                 1978   \n",
       "2                 67.0  New-Generation                 1980   \n",
       "3                 68.0  New Generation                 1980   \n",
       "4                 67.0  New Generation                 1980   \n",
       "...                ...             ...                  ...   \n",
       "202759           146.0      Maisonette                 1986   \n",
       "202760           146.0      Maisonette                 1988   \n",
       "202761           145.0       Apartment                 1987   \n",
       "202762           146.0      Maisonette                 1988   \n",
       "202763           146.0      Maisonette                 1988   \n",
       "\n",
       "           remaining_lease resale_price  \n",
       "0       61 years 04 months     232000.0  \n",
       "1       60 years 07 months     250000.0  \n",
       "2       62 years 05 months     262000.0  \n",
       "3        62 years 01 month     265000.0  \n",
       "4           62 y 05 months     265000.0  \n",
       "...                    ...          ...  \n",
       "202759  60 years 05 months     818888.0  \n",
       "202760  62 years 02 months     960000.0  \n",
       "202761  61 years 10 months     868888.0  \n",
       "202762            62 years    1100888.0  \n",
       "202763            62 years    1100888.0  \n",
       "\n",
       "[202764 rows x 11 columns]"
      ]
     },
     "execution_count": 71,
     "metadata": {},
     "output_type": "execute_result"
    }
   ],
   "source": [
    "df = pd.read_csv('./datasets/HDB Resale flat prices-2017-2025v2.csv')\n",
    "df"
   ]
  },
  {
   "cell_type": "code",
   "execution_count": 21,
   "id": "986c0de9",
   "metadata": {},
   "outputs": [
    {
     "name": "stdout",
     "output_type": "stream",
     "text": [
      "town\n",
      "['AMK' 'ANG MO KIO' 'BEDOK' 'BISHAN' 'BUKIT BATOK' 'BUKIT MERAH'\n",
      " 'BUKIT PANJANG' 'BUKIT TIMAH' 'CCK' 'CENTRAL AREA' 'CHOA CHU KANG'\n",
      " 'CLEMENTI' 'GEYLANG' 'HOUGANG' 'JURONG EAST' 'JURONG WEST'\n",
      " 'KALLANG/WHAMPOA' 'MARINE PARADE' 'PASIR RIS' 'PUNGGOL' 'QUEENSTOWN'\n",
      " 'SEMBAWANG' 'SENG-KANG' 'SENGKANG' 'SERANGOON' 'TAMPINES' 'TOA PAYOH'\n",
      " 'WOODLANDS' 'YISHUN']\n",
      "===========================================\n",
      "flat_type\n",
      "['1 ROOM' '2 ROOM' '3 RM' '3 ROOM' '3 ROOMS' '3 ROOMs' '3-ROOM' '4 ROOM'\n",
      " '4 ROOMS' '4 ROOMSS' '5 ROOM' '5-RM' 'EXECUTIVE' 'MULTI-GENERATION']\n",
      "===========================================\n",
      "storey_range\n",
      "['01 -- 03' '01 ---03' '01 TO 03' '01----03' '01@03' '01@@03' '04 -- 06'\n",
      " '04 TO 06' '04---06' '07 -- 09' '07 --- 09' '07 TO 09' '07@@09'\n",
      " '10 TO 12' '10--12' '10-Dec' '10@12' '13 - 15' '13 TO 15' '16 TO 18'\n",
      " '19 -- 21' '19 TO 21' '22 -- 24' '22 --- 24' '22 TO 24' '25 TO 27'\n",
      " '28 TO 30' '31 TO 33' '34 TO 36' '37 TO 39' '4-Jun' '40 TO 42' '43 TO 45'\n",
      " '46 TO 48' '49 TO 51']\n",
      "===========================================\n",
      "flat_model\n",
      "['2-room' '3Gen' 'Adjoined flat' 'Apartment' 'DBSS' 'Improved'\n",
      " 'Improved-Maisonette' 'Maisonette' 'Model -A' 'Model A'\n",
      " 'Model A-Maisonette' 'Model A2' 'Multi Generation' 'NG' 'New Generation'\n",
      " 'New-Generation' 'Premium Apartment' 'Premium Apartment Loft'\n",
      " 'Premium Maisonette' 'Simplified' 'Standard' 'Terrace' 'Type S1'\n",
      " 'Type S2']\n",
      "===========================================\n",
      "block\n",
      "['\"**588C' '\"**646' '#321' ... '@304' '@406' '@@230']\n",
      "===========================================\n"
     ]
    }
   ],
   "source": [
    "## Looking at unique values\n",
    "discrete_cols = ['town' , 'flat_type' , 'storey_range' , 'flat_model' , 'block']\n",
    "\n",
    "for col in discrete_cols:\n",
    "  print(col)\n",
    "  print(np.unique(df[col].values))\n",
    "  print('===========================================')"
   ]
  },
  {
   "cell_type": "markdown",
   "id": "40140578",
   "metadata": {},
   "source": [
    "There are multiple different values that have the same meaning.\n",
    "\n",
    "<br>\n",
    "For Example:\n",
    "\n",
    "  - **AMK** is the same as **Ang Mo Kio**\n",
    "  - The **multiple variations** of storey range **1 TO 3**\n",
    "  - The many **mis-spelling** of **3 ROOMS** etc\n",
    "\n",
    "We can make all of those into one singular **'code'/representation**"
   ]
  },
  {
   "cell_type": "code",
   "execution_count": 10,
   "id": "762ca984",
   "metadata": {},
   "outputs": [
    {
     "name": "stdout",
     "output_type": "stream",
     "text": [
      "<class 'pandas.core.frame.DataFrame'>\n",
      "RangeIndex: 202764 entries, 0 to 202763\n",
      "Data columns (total 11 columns):\n",
      " #   Column               Non-Null Count   Dtype  \n",
      "---  ------               --------------   -----  \n",
      " 0   month                202764 non-null  object \n",
      " 1   town                 202764 non-null  object \n",
      " 2   flat_type            202764 non-null  object \n",
      " 3   block                202764 non-null  object \n",
      " 4   street_name          202764 non-null  object \n",
      " 5   storey_range         202764 non-null  object \n",
      " 6   floor_area_sqm       202764 non-null  float64\n",
      " 7   flat_model           202764 non-null  object \n",
      " 8   lease_commence_date  202764 non-null  int64  \n",
      " 9   remaining_lease      202764 non-null  object \n",
      " 10  resale_price         202764 non-null  object \n",
      "dtypes: float64(1), int64(1), object(9)\n",
      "memory usage: 17.0+ MB\n"
     ]
    }
   ],
   "source": [
    "## Looking at summaries, etc\n",
    "df.info()"
   ]
  },
  {
   "cell_type": "markdown",
   "id": "365fa071",
   "metadata": {},
   "source": [
    "There is no missing data\n",
    "\n",
    "The datatypes of reslae price and month is wrong"
   ]
  },
  {
   "cell_type": "code",
   "execution_count": 20,
   "id": "0a9e0d51",
   "metadata": {},
   "outputs": [
    {
     "data": {
      "text/html": [
       "<div>\n",
       "<style scoped>\n",
       "    .dataframe tbody tr th:only-of-type {\n",
       "        vertical-align: middle;\n",
       "    }\n",
       "\n",
       "    .dataframe tbody tr th {\n",
       "        vertical-align: top;\n",
       "    }\n",
       "\n",
       "    .dataframe thead th {\n",
       "        text-align: right;\n",
       "    }\n",
       "</style>\n",
       "<table border=\"1\" class=\"dataframe\">\n",
       "  <thead>\n",
       "    <tr style=\"text-align: right;\">\n",
       "      <th></th>\n",
       "      <th>floor_area_sqm</th>\n",
       "      <th>lease_commence_date</th>\n",
       "    </tr>\n",
       "  </thead>\n",
       "  <tbody>\n",
       "    <tr>\n",
       "      <th>count</th>\n",
       "      <td>202764.000000</td>\n",
       "      <td>202764.000000</td>\n",
       "    </tr>\n",
       "    <tr>\n",
       "      <th>mean</th>\n",
       "      <td>96.929510</td>\n",
       "      <td>1996.244718</td>\n",
       "    </tr>\n",
       "    <tr>\n",
       "      <th>std</th>\n",
       "      <td>24.030239</td>\n",
       "      <td>14.188254</td>\n",
       "    </tr>\n",
       "    <tr>\n",
       "      <th>min</th>\n",
       "      <td>31.000000</td>\n",
       "      <td>1966.000000</td>\n",
       "    </tr>\n",
       "    <tr>\n",
       "      <th>25%</th>\n",
       "      <td>82.000000</td>\n",
       "      <td>1985.000000</td>\n",
       "    </tr>\n",
       "    <tr>\n",
       "      <th>50%</th>\n",
       "      <td>93.000000</td>\n",
       "      <td>1996.000000</td>\n",
       "    </tr>\n",
       "    <tr>\n",
       "      <th>75%</th>\n",
       "      <td>112.000000</td>\n",
       "      <td>2011.000000</td>\n",
       "    </tr>\n",
       "    <tr>\n",
       "      <th>max</th>\n",
       "      <td>366.700000</td>\n",
       "      <td>2021.000000</td>\n",
       "    </tr>\n",
       "  </tbody>\n",
       "</table>\n",
       "</div>"
      ],
      "text/plain": [
       "       floor_area_sqm  lease_commence_date\n",
       "count   202764.000000        202764.000000\n",
       "mean        96.929510          1996.244718\n",
       "std         24.030239            14.188254\n",
       "min         31.000000          1966.000000\n",
       "25%         82.000000          1985.000000\n",
       "50%         93.000000          1996.000000\n",
       "75%        112.000000          2011.000000\n",
       "max        366.700000          2021.000000"
      ]
     },
     "execution_count": 20,
     "metadata": {},
     "output_type": "execute_result"
    }
   ],
   "source": [
    "## descriptive summaries\n",
    "# df['resale_price'] = df['resale_price'].astype(float)\n",
    "df.describe()"
   ]
  },
  {
   "cell_type": "markdown",
   "id": "74faa79b",
   "metadata": {},
   "source": [
    "##### Data Cleaning"
   ]
  },
  {
   "cell_type": "code",
   "execution_count": 37,
   "id": "4a983fd4",
   "metadata": {},
   "outputs": [],
   "source": [
    "## The concept behind cleaning is similar for all\n",
    "def clean_discrete_data(mapping, col , df):\n",
    "  \"\"\"\n",
    "Map contains x : y, where searches for any instance of x in each cell to replace to y\n",
    "  \"\"\"\n",
    "  # Get the data\n",
    "  data = df[col]\n",
    "  def change_data(x):\n",
    "    for keys in mapping.keys():\n",
    "      if keys in x:\n",
    "        return mapping[keys]\n",
    "    return x\n",
    "  \n",
    "  data = data.apply(change_data)\n",
    "  return data"
   ]
  },
  {
   "cell_type": "code",
   "execution_count": 41,
   "id": "b27a6f70",
   "metadata": {},
   "outputs": [],
   "source": [
    "replacements = {\n",
    "  'town': {\n",
    "    'AMK': 'ANG MO KIO',\n",
    "    'CCK': 'CHOA CHU KANG',\n",
    "    'SENG-KANG': 'SENGKANG'\n",
    "  },\n",
    "  'flat_type': {\n",
    "    '3': '3 ROOM',\n",
    "    '4': '4 ROOM',\n",
    "    '5': '5 ROOM'\n",
    "  },\n",
    "  'storey_range': {\n",
    "    **{\n",
    "      # gives '03': '01 to 03' for i = 03\n",
    "      f\"{i:02}\": f\"{i - 2:02} to {i:02}\"\n",
    "      for i in range(3 , 52 , 3)\n",
    "    },\n",
    "    '10-Dec': '10 to 12', # implied where dec is 12th month\n",
    "    '4-Jun': '04-06'\n",
    "  }, \n",
    "}\n",
    "\n",
    "# allows me to still work with original data\n",
    "cleaned_df = df.copy()\n",
    "\n",
    "for col , map in replacements.items():\n",
    "  cleaned_df[col] = clean_discrete_data(map , col , df)"
   ]
  },
  {
   "cell_type": "code",
   "execution_count": 63,
   "id": "4a577776",
   "metadata": {},
   "outputs": [],
   "source": [
    "# for block will be abit different will use regex\n",
    "regex = r\"(\\d+)([A-Z]?)\"\n",
    "\n",
    "cleaned_df['block'] = cleaned_df['block'].apply(lambda x: re.search(regex , x).group())"
   ]
  },
  {
   "cell_type": "code",
   "execution_count": 64,
   "id": "c778de6c",
   "metadata": {},
   "outputs": [
    {
     "name": "stdout",
     "output_type": "stream",
     "text": [
      "town\n",
      "['ANG MO KIO' 'BEDOK' 'BISHAN' 'BUKIT BATOK' 'BUKIT MERAH' 'BUKIT PANJANG'\n",
      " 'BUKIT TIMAH' 'CENTRAL AREA' 'CHOA CHU KANG' 'CLEMENTI' 'GEYLANG'\n",
      " 'HOUGANG' 'JURONG EAST' 'JURONG WEST' 'KALLANG/WHAMPOA' 'MARINE PARADE'\n",
      " 'PASIR RIS' 'PUNGGOL' 'QUEENSTOWN' 'SEMBAWANG' 'SENGKANG' 'SERANGOON'\n",
      " 'TAMPINES' 'TOA PAYOH' 'WOODLANDS' 'YISHUN']\n",
      "===========================================\n",
      "flat_type\n",
      "['1 ROOM' '2 ROOM' '3 ROOM' '4 ROOM' '5 ROOM' 'EXECUTIVE'\n",
      " 'MULTI-GENERATION']\n",
      "===========================================\n",
      "storey_range\n",
      "['01 to 03' '04 to 06' '04-06' '07 to 09' '10 to 12' '13 to 15' '16 to 18'\n",
      " '19 to 21' '22 to 24' '25 to 27' '28 to 30' '31 to 33' '34 to 36'\n",
      " '37 to 39' '40 to 42' '43 to 45' '46 to 48' '49 to 51']\n",
      "===========================================\n",
      "flat_model\n",
      "['2-room' '3Gen' 'Adjoined flat' 'Apartment' 'DBSS' 'Improved'\n",
      " 'Improved-Maisonette' 'Maisonette' 'Model -A' 'Model A'\n",
      " 'Model A-Maisonette' 'Model A2' 'Multi Generation' 'NG' 'New Generation'\n",
      " 'New-Generation' 'Premium Apartment' 'Premium Apartment Loft'\n",
      " 'Premium Maisonette' 'Simplified' 'Standard' 'Terrace' 'Type S1'\n",
      " 'Type S2']\n",
      "===========================================\n",
      "block\n",
      "['1' '10' '100' ... '99C' '9A' '9B']\n",
      "===========================================\n"
     ]
    }
   ],
   "source": [
    "# relook at unique values\n",
    "\n",
    "for col in discrete_cols:\n",
    "  print(col)\n",
    "  print(np.unique(cleaned_df[col].values))\n",
    "  print('===========================================')"
   ]
  },
  {
   "cell_type": "code",
   "execution_count": 65,
   "id": "26da86bf",
   "metadata": {},
   "outputs": [],
   "source": [
    "# Here we can change the dtype\n",
    "cleaned_df['month'] = pd.to_datetime(cleaned_df['month'] , format='%Y-%m')"
   ]
  },
  {
   "cell_type": "code",
   "execution_count": 69,
   "id": "7012953c",
   "metadata": {},
   "outputs": [
    {
     "ename": "ValueError",
     "evalue": "could not convert string to float: '285-000'",
     "output_type": "error",
     "traceback": [
      "\u001b[1;31m---------------------------------------------------------------------------\u001b[0m",
      "\u001b[1;31mValueError\u001b[0m                                Traceback (most recent call last)",
      "Cell \u001b[1;32mIn[69], line 1\u001b[0m\n\u001b[1;32m----> 1\u001b[0m cleaned_df[\u001b[38;5;124m'\u001b[39m\u001b[38;5;124mresale_price\u001b[39m\u001b[38;5;124m'\u001b[39m] \u001b[38;5;241m=\u001b[39m cleaned_df[\u001b[38;5;124m'\u001b[39m\u001b[38;5;124mresale_price\u001b[39m\u001b[38;5;124m'\u001b[39m]\u001b[38;5;241m.\u001b[39mastype(\u001b[38;5;28mfloat\u001b[39m)\n",
      "File \u001b[1;32mc:\\Users\\JOVAN\\anaconda3\\Lib\\site-packages\\pandas\\core\\generic.py:6643\u001b[0m, in \u001b[0;36mNDFrame.astype\u001b[1;34m(self, dtype, copy, errors)\u001b[0m\n\u001b[0;32m   6637\u001b[0m     results \u001b[38;5;241m=\u001b[39m [\n\u001b[0;32m   6638\u001b[0m         ser\u001b[38;5;241m.\u001b[39mastype(dtype, copy\u001b[38;5;241m=\u001b[39mcopy, errors\u001b[38;5;241m=\u001b[39merrors) \u001b[38;5;28;01mfor\u001b[39;00m _, ser \u001b[38;5;129;01min\u001b[39;00m \u001b[38;5;28mself\u001b[39m\u001b[38;5;241m.\u001b[39mitems()\n\u001b[0;32m   6639\u001b[0m     ]\n\u001b[0;32m   6641\u001b[0m \u001b[38;5;28;01melse\u001b[39;00m:\n\u001b[0;32m   6642\u001b[0m     \u001b[38;5;66;03m# else, only a single dtype is given\u001b[39;00m\n\u001b[1;32m-> 6643\u001b[0m     new_data \u001b[38;5;241m=\u001b[39m \u001b[38;5;28mself\u001b[39m\u001b[38;5;241m.\u001b[39m_mgr\u001b[38;5;241m.\u001b[39mastype(dtype\u001b[38;5;241m=\u001b[39mdtype, copy\u001b[38;5;241m=\u001b[39mcopy, errors\u001b[38;5;241m=\u001b[39merrors)\n\u001b[0;32m   6644\u001b[0m     res \u001b[38;5;241m=\u001b[39m \u001b[38;5;28mself\u001b[39m\u001b[38;5;241m.\u001b[39m_constructor_from_mgr(new_data, axes\u001b[38;5;241m=\u001b[39mnew_data\u001b[38;5;241m.\u001b[39maxes)\n\u001b[0;32m   6645\u001b[0m     \u001b[38;5;28;01mreturn\u001b[39;00m res\u001b[38;5;241m.\u001b[39m__finalize__(\u001b[38;5;28mself\u001b[39m, method\u001b[38;5;241m=\u001b[39m\u001b[38;5;124m\"\u001b[39m\u001b[38;5;124mastype\u001b[39m\u001b[38;5;124m\"\u001b[39m)\n",
      "File \u001b[1;32mc:\\Users\\JOVAN\\anaconda3\\Lib\\site-packages\\pandas\\core\\internals\\managers.py:430\u001b[0m, in \u001b[0;36mBaseBlockManager.astype\u001b[1;34m(self, dtype, copy, errors)\u001b[0m\n\u001b[0;32m    427\u001b[0m \u001b[38;5;28;01melif\u001b[39;00m using_copy_on_write():\n\u001b[0;32m    428\u001b[0m     copy \u001b[38;5;241m=\u001b[39m \u001b[38;5;28;01mFalse\u001b[39;00m\n\u001b[1;32m--> 430\u001b[0m \u001b[38;5;28;01mreturn\u001b[39;00m \u001b[38;5;28mself\u001b[39m\u001b[38;5;241m.\u001b[39mapply(\n\u001b[0;32m    431\u001b[0m     \u001b[38;5;124m\"\u001b[39m\u001b[38;5;124mastype\u001b[39m\u001b[38;5;124m\"\u001b[39m,\n\u001b[0;32m    432\u001b[0m     dtype\u001b[38;5;241m=\u001b[39mdtype,\n\u001b[0;32m    433\u001b[0m     copy\u001b[38;5;241m=\u001b[39mcopy,\n\u001b[0;32m    434\u001b[0m     errors\u001b[38;5;241m=\u001b[39merrors,\n\u001b[0;32m    435\u001b[0m     using_cow\u001b[38;5;241m=\u001b[39musing_copy_on_write(),\n\u001b[0;32m    436\u001b[0m )\n",
      "File \u001b[1;32mc:\\Users\\JOVAN\\anaconda3\\Lib\\site-packages\\pandas\\core\\internals\\managers.py:363\u001b[0m, in \u001b[0;36mBaseBlockManager.apply\u001b[1;34m(self, f, align_keys, **kwargs)\u001b[0m\n\u001b[0;32m    361\u001b[0m         applied \u001b[38;5;241m=\u001b[39m b\u001b[38;5;241m.\u001b[39mapply(f, \u001b[38;5;241m*\u001b[39m\u001b[38;5;241m*\u001b[39mkwargs)\n\u001b[0;32m    362\u001b[0m     \u001b[38;5;28;01melse\u001b[39;00m:\n\u001b[1;32m--> 363\u001b[0m         applied \u001b[38;5;241m=\u001b[39m \u001b[38;5;28mgetattr\u001b[39m(b, f)(\u001b[38;5;241m*\u001b[39m\u001b[38;5;241m*\u001b[39mkwargs)\n\u001b[0;32m    364\u001b[0m     result_blocks \u001b[38;5;241m=\u001b[39m extend_blocks(applied, result_blocks)\n\u001b[0;32m    366\u001b[0m out \u001b[38;5;241m=\u001b[39m \u001b[38;5;28mtype\u001b[39m(\u001b[38;5;28mself\u001b[39m)\u001b[38;5;241m.\u001b[39mfrom_blocks(result_blocks, \u001b[38;5;28mself\u001b[39m\u001b[38;5;241m.\u001b[39maxes)\n",
      "File \u001b[1;32mc:\\Users\\JOVAN\\anaconda3\\Lib\\site-packages\\pandas\\core\\internals\\blocks.py:758\u001b[0m, in \u001b[0;36mBlock.astype\u001b[1;34m(self, dtype, copy, errors, using_cow, squeeze)\u001b[0m\n\u001b[0;32m    755\u001b[0m         \u001b[38;5;28;01mraise\u001b[39;00m \u001b[38;5;167;01mValueError\u001b[39;00m(\u001b[38;5;124m\"\u001b[39m\u001b[38;5;124mCan not squeeze with more than one column.\u001b[39m\u001b[38;5;124m\"\u001b[39m)\n\u001b[0;32m    756\u001b[0m     values \u001b[38;5;241m=\u001b[39m values[\u001b[38;5;241m0\u001b[39m, :]  \u001b[38;5;66;03m# type: ignore[call-overload]\u001b[39;00m\n\u001b[1;32m--> 758\u001b[0m new_values \u001b[38;5;241m=\u001b[39m astype_array_safe(values, dtype, copy\u001b[38;5;241m=\u001b[39mcopy, errors\u001b[38;5;241m=\u001b[39merrors)\n\u001b[0;32m    760\u001b[0m new_values \u001b[38;5;241m=\u001b[39m maybe_coerce_values(new_values)\n\u001b[0;32m    762\u001b[0m refs \u001b[38;5;241m=\u001b[39m \u001b[38;5;28;01mNone\u001b[39;00m\n",
      "File \u001b[1;32mc:\\Users\\JOVAN\\anaconda3\\Lib\\site-packages\\pandas\\core\\dtypes\\astype.py:237\u001b[0m, in \u001b[0;36mastype_array_safe\u001b[1;34m(values, dtype, copy, errors)\u001b[0m\n\u001b[0;32m    234\u001b[0m     dtype \u001b[38;5;241m=\u001b[39m dtype\u001b[38;5;241m.\u001b[39mnumpy_dtype\n\u001b[0;32m    236\u001b[0m \u001b[38;5;28;01mtry\u001b[39;00m:\n\u001b[1;32m--> 237\u001b[0m     new_values \u001b[38;5;241m=\u001b[39m astype_array(values, dtype, copy\u001b[38;5;241m=\u001b[39mcopy)\n\u001b[0;32m    238\u001b[0m \u001b[38;5;28;01mexcept\u001b[39;00m (\u001b[38;5;167;01mValueError\u001b[39;00m, \u001b[38;5;167;01mTypeError\u001b[39;00m):\n\u001b[0;32m    239\u001b[0m     \u001b[38;5;66;03m# e.g. _astype_nansafe can fail on object-dtype of strings\u001b[39;00m\n\u001b[0;32m    240\u001b[0m     \u001b[38;5;66;03m#  trying to convert to float\u001b[39;00m\n\u001b[0;32m    241\u001b[0m     \u001b[38;5;28;01mif\u001b[39;00m errors \u001b[38;5;241m==\u001b[39m \u001b[38;5;124m\"\u001b[39m\u001b[38;5;124mignore\u001b[39m\u001b[38;5;124m\"\u001b[39m:\n",
      "File \u001b[1;32mc:\\Users\\JOVAN\\anaconda3\\Lib\\site-packages\\pandas\\core\\dtypes\\astype.py:182\u001b[0m, in \u001b[0;36mastype_array\u001b[1;34m(values, dtype, copy)\u001b[0m\n\u001b[0;32m    179\u001b[0m     values \u001b[38;5;241m=\u001b[39m values\u001b[38;5;241m.\u001b[39mastype(dtype, copy\u001b[38;5;241m=\u001b[39mcopy)\n\u001b[0;32m    181\u001b[0m \u001b[38;5;28;01melse\u001b[39;00m:\n\u001b[1;32m--> 182\u001b[0m     values \u001b[38;5;241m=\u001b[39m _astype_nansafe(values, dtype, copy\u001b[38;5;241m=\u001b[39mcopy)\n\u001b[0;32m    184\u001b[0m \u001b[38;5;66;03m# in pandas we don't store numpy str dtypes, so convert to object\u001b[39;00m\n\u001b[0;32m    185\u001b[0m \u001b[38;5;28;01mif\u001b[39;00m \u001b[38;5;28misinstance\u001b[39m(dtype, np\u001b[38;5;241m.\u001b[39mdtype) \u001b[38;5;129;01mand\u001b[39;00m \u001b[38;5;28missubclass\u001b[39m(values\u001b[38;5;241m.\u001b[39mdtype\u001b[38;5;241m.\u001b[39mtype, \u001b[38;5;28mstr\u001b[39m):\n",
      "File \u001b[1;32mc:\\Users\\JOVAN\\anaconda3\\Lib\\site-packages\\pandas\\core\\dtypes\\astype.py:133\u001b[0m, in \u001b[0;36m_astype_nansafe\u001b[1;34m(arr, dtype, copy, skipna)\u001b[0m\n\u001b[0;32m    129\u001b[0m     \u001b[38;5;28;01mraise\u001b[39;00m \u001b[38;5;167;01mValueError\u001b[39;00m(msg)\n\u001b[0;32m    131\u001b[0m \u001b[38;5;28;01mif\u001b[39;00m copy \u001b[38;5;129;01mor\u001b[39;00m arr\u001b[38;5;241m.\u001b[39mdtype \u001b[38;5;241m==\u001b[39m \u001b[38;5;28mobject\u001b[39m \u001b[38;5;129;01mor\u001b[39;00m dtype \u001b[38;5;241m==\u001b[39m \u001b[38;5;28mobject\u001b[39m:\n\u001b[0;32m    132\u001b[0m     \u001b[38;5;66;03m# Explicit copy, or required since NumPy can't view from / to object.\u001b[39;00m\n\u001b[1;32m--> 133\u001b[0m     \u001b[38;5;28;01mreturn\u001b[39;00m arr\u001b[38;5;241m.\u001b[39mastype(dtype, copy\u001b[38;5;241m=\u001b[39m\u001b[38;5;28;01mTrue\u001b[39;00m)\n\u001b[0;32m    135\u001b[0m \u001b[38;5;28;01mreturn\u001b[39;00m arr\u001b[38;5;241m.\u001b[39mastype(dtype, copy\u001b[38;5;241m=\u001b[39mcopy)\n",
      "\u001b[1;31mValueError\u001b[0m: could not convert string to float: '285-000'"
     ]
    }
   ],
   "source": [
    "cleaned_df['resale_price'] = cleaned_df['resale_price'].astype(float)"
   ]
  },
  {
   "cell_type": "markdown",
   "id": "296300f7",
   "metadata": {},
   "source": [
    "There is an error 😱, suggest there are some badly formatted strings inside of this col"
   ]
  },
  {
   "cell_type": "code",
   "execution_count": 76,
   "id": "61962cd7",
   "metadata": {},
   "outputs": [],
   "source": [
    "def convert_resale_to_numbers(x):\n",
    "  try:\n",
    "    return float(x)\n",
    "  except:\n",
    "    # will be triggered when tries to float strings etc\n",
    "    return x"
   ]
  },
  {
   "cell_type": "code",
   "execution_count": 77,
   "id": "9682f74d",
   "metadata": {},
   "outputs": [],
   "source": [
    "# Convert to float\n",
    "cleaned_df['resale_price'] = cleaned_df['resale_price'].apply(convert_resale_to_numbers)"
   ]
  },
  {
   "cell_type": "code",
   "execution_count": 79,
   "id": "d39af61e",
   "metadata": {},
   "outputs": [
    {
     "data": {
      "text/html": [
       "<div>\n",
       "<style scoped>\n",
       "    .dataframe tbody tr th:only-of-type {\n",
       "        vertical-align: middle;\n",
       "    }\n",
       "\n",
       "    .dataframe tbody tr th {\n",
       "        vertical-align: top;\n",
       "    }\n",
       "\n",
       "    .dataframe thead th {\n",
       "        text-align: right;\n",
       "    }\n",
       "</style>\n",
       "<table border=\"1\" class=\"dataframe\">\n",
       "  <thead>\n",
       "    <tr style=\"text-align: right;\">\n",
       "      <th></th>\n",
       "      <th>month</th>\n",
       "      <th>town</th>\n",
       "      <th>flat_type</th>\n",
       "      <th>block</th>\n",
       "      <th>street_name</th>\n",
       "      <th>storey_range</th>\n",
       "      <th>floor_area_sqm</th>\n",
       "      <th>flat_model</th>\n",
       "      <th>lease_commence_date</th>\n",
       "      <th>remaining_lease</th>\n",
       "      <th>resale_price</th>\n",
       "    </tr>\n",
       "  </thead>\n",
       "  <tbody>\n",
       "    <tr>\n",
       "      <th>88750</th>\n",
       "      <td>2021-01-01</td>\n",
       "      <td>KALLANG/WHAMPOA</td>\n",
       "      <td>3 ROOM</td>\n",
       "      <td>11</td>\n",
       "      <td>UPP BOON KENG RD</td>\n",
       "      <td>04 to 06</td>\n",
       "      <td>65.0</td>\n",
       "      <td>Improved</td>\n",
       "      <td>1974</td>\n",
       "      <td>52 years</td>\n",
       "      <td>285-000</td>\n",
       "    </tr>\n",
       "  </tbody>\n",
       "</table>\n",
       "</div>"
      ],
      "text/plain": [
       "           month             town flat_type block       street_name  \\\n",
       "88750 2021-01-01  KALLANG/WHAMPOA    3 ROOM    11  UPP BOON KENG RD   \n",
       "\n",
       "      storey_range  floor_area_sqm flat_model  lease_commence_date  \\\n",
       "88750     04 to 06            65.0   Improved                 1974   \n",
       "\n",
       "      remaining_lease resale_price  \n",
       "88750        52 years      285-000  "
      ]
     },
     "execution_count": 79,
     "metadata": {},
     "output_type": "execute_result"
    }
   ],
   "source": [
    "# select those that are not classed as numbers\n",
    "cleaned_df[cleaned_df['resale_price'].apply(lambda x: not (isinstance(x , float)))]"
   ]
  },
  {
   "cell_type": "code",
   "execution_count": 80,
   "id": "25c37f2f",
   "metadata": {},
   "outputs": [],
   "source": [
    "# can just replace it\n",
    "cleaned_df['resale_price'] = cleaned_df['resale_price'].apply(lambda x: 285000 if isinstance(x , str) else x)"
   ]
  },
  {
   "cell_type": "code",
   "execution_count": 82,
   "id": "cce903fd",
   "metadata": {},
   "outputs": [
    {
     "data": {
      "text/plain": [
       "0"
      ]
     },
     "execution_count": 82,
     "metadata": {},
     "output_type": "execute_result"
    }
   ],
   "source": [
    "cleaned_df[cleaned_df['resale_price'].apply(lambda x: not (isinstance(x , float)))].size"
   ]
  },
  {
   "cell_type": "markdown",
   "id": "8f159563",
   "metadata": {},
   "source": [
    "The size shows 0, suggesting that everything is a float"
   ]
  },
  {
   "cell_type": "markdown",
   "id": "339b0452",
   "metadata": {},
   "source": [
    "##### Exporting Data"
   ]
  },
  {
   "cell_type": "code",
   "execution_count": 85,
   "id": "e7d746bc",
   "metadata": {},
   "outputs": [],
   "source": [
    "cleaned_df.to_excel('./outputs/cleaned_data.xlsx')"
   ]
  },
  {
   "cell_type": "code",
   "execution_count": null,
   "id": "73fe084c",
   "metadata": {},
   "outputs": [],
   "source": []
  }
 ],
 "metadata": {
  "kernelspec": {
   "display_name": "base",
   "language": "python",
   "name": "python3"
  },
  "language_info": {
   "codemirror_mode": {
    "name": "ipython",
    "version": 3
   },
   "file_extension": ".py",
   "mimetype": "text/x-python",
   "name": "python",
   "nbconvert_exporter": "python",
   "pygments_lexer": "ipython3",
   "version": "3.12.4"
  }
 },
 "nbformat": 4,
 "nbformat_minor": 5
}
